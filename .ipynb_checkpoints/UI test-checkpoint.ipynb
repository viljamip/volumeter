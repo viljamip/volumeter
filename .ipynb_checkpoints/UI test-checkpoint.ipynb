{
 "cells": [
  {
   "cell_type": "markdown",
   "metadata": {},
   "source": [
    "## Todo\n",
    "- [ ] Specimen holder selector\n",
    "- [ ] Cable tie position selector\n",
    "- [ ] Progress bar for the measurement? Not strictly necessary but cool. This would have to be updated in recordSensors()\n",
    "- [ ] Specimen holder delete\n",
    "- [ ] Interactive plot\n",
    "- [ ] Slider to select the exported data range?\n",
    "- [ ] Slider to fine tune specimen holder and measurement data if the sync is not robust\n",
    "- [ ] widgets.Text for user input instead of input() ?\n",
    "- [ ] widgets.Button to start instead of hitting enter in input()?\n"
   ]
  },
  {
   "cell_type": "code",
   "execution_count": 1,
   "metadata": {},
   "outputs": [],
   "source": [
    "import ipywidgets as widgets\n",
    "from IPython.display import display\n",
    "import pandas as pd\n",
    "import matplotlib.pyplot as plt\n",
    "%matplotlib inline"
   ]
  },
  {
   "cell_type": "markdown",
   "metadata": {},
   "source": [
    "## Specimen holder selector"
   ]
  },
  {
   "cell_type": "code",
   "execution_count": 19,
   "metadata": {},
   "outputs": [],
   "source": [
    "def selectSpecimenHolder():\n",
    "    df = pd.read_pickle('testSave')\n",
    "    \n",
    "    holderSelector = widgets.Select(\n",
    "    options=df.columns,\n",
    "    value=df.columns[0],\n",
    "    description='Holder: ',\n",
    "    disabled=False\n",
    "    )\n",
    "    #print(holderSelector.value)\n",
    "    widgets.interact(plotSpecimenHolder, df=widgets.fixed(df), column=holderSelector)\n",
    "    \n",
    "def plotSpecimenHolder(df, column):\n",
    "    %matplotlib notebook\n",
    "    fig=plt.figure(column)\n",
    "    plt.plot(df[column])\n",
    "    plt.show()\n"
   ]
  },
  {
   "cell_type": "markdown",
   "metadata": {},
   "source": [
    "## Mount selector"
   ]
  },
  {
   "cell_type": "code",
   "execution_count": 3,
   "metadata": {},
   "outputs": [],
   "source": [
    "pass"
   ]
  },
  {
   "cell_type": "code",
   "execution_count": 20,
   "metadata": {},
   "outputs": [
    {
     "data": {
      "application/vnd.jupyter.widget-view+json": {
       "model_id": "a9dc592a70f749638c411bc966c2e87c",
       "version_major": 2,
       "version_minor": 0
      },
      "text/plain": [
       "interactive(children=(Select(description='Holder: ', options=('holder 1', 'holder2'), value='holder 1'), Outpu…"
      ]
     },
     "metadata": {},
     "output_type": "display_data"
    }
   ],
   "source": [
    "selectSpecimenHolder()"
   ]
  },
  {
   "cell_type": "code",
   "execution_count": null,
   "metadata": {},
   "outputs": [],
   "source": []
  }
 ],
 "metadata": {
  "kernelspec": {
   "display_name": "Python 3",
   "language": "python",
   "name": "python3"
  },
  "language_info": {
   "codemirror_mode": {
    "name": "ipython",
    "version": 3
   },
   "file_extension": ".py",
   "mimetype": "text/x-python",
   "name": "python",
   "nbconvert_exporter": "python",
   "pygments_lexer": "ipython3",
   "version": "3.6.4"
  }
 },
 "nbformat": 4,
 "nbformat_minor": 2
}
