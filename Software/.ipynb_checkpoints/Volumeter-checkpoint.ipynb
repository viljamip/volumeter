{
 "cells": [
  {
   "cell_type": "markdown",
   "metadata": {},
   "source": [
    "# Volumeter"
   ]
  },
  {
   "cell_type": "markdown",
   "metadata": {},
   "source": [
    "Meidän kannattaa varmaan tehdä oma Python moduuli joka vaan importataan tänne ja kutsutaan funktioita kuten vaikka calibrate(). Siten käyttäjän ei tarvii nähä täällä mitään ylimäärästä koodia."
   ]
  },
  {
   "cell_type": "code",
   "execution_count": 2,
   "metadata": {},
   "outputs": [],
   "source": [
    "import serial\n",
    "import ReadLine\n",
    "import pandas as pd"
   ]
  },
  {
   "cell_type": "code",
   "execution_count": null,
   "metadata": {},
   "outputs": [],
   "source": [
    "sensorSerial = serial.Serial(port='/dev/cu.wchusbserial22430', baudrate=115200)\n",
    "sensorReader = ReadLine.ReadLine(sensorSerial)\n",
    "\n",
    "print(sensorReader.readline().decode())"
   ]
  },
  {
   "cell_type": "code",
   "execution_count": 6,
   "metadata": {},
   "outputs": [
    {
     "name": "stdout",
     "output_type": "stream",
     "text": [
      "Weight of the calibration object in grams: 1324.34\n",
      "1.3243399999999999\n"
     ]
    }
   ],
   "source": [
    "grams = float(input(\"Weight of the calibration object in grams: \"))\n",
    "print(grams/1000)"
   ]
  },
  {
   "cell_type": "code",
   "execution_count": null,
   "metadata": {},
   "outputs": [],
   "source": []
  }
 ],
 "metadata": {
  "kernelspec": {
   "display_name": "Python 3",
   "language": "python",
   "name": "python3"
  },
  "language_info": {
   "codemirror_mode": {
    "name": "ipython",
    "version": 3
   },
   "file_extension": ".py",
   "mimetype": "text/x-python",
   "name": "python",
   "nbconvert_exporter": "python",
   "pygments_lexer": "ipython3",
   "version": "3.6.4"
  }
 },
 "nbformat": 4,
 "nbformat_minor": 2
}
