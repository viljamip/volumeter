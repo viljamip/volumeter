{
 "cells": [
  {
   "cell_type": "markdown",
   "metadata": {},
   "source": [
    "Kalibroinnit jokainen omaan json fileen:\n",
    "- Name\n",
    "- Description\n",
    "- Time-stamp last edit time\n",
    "- Weight\n",
    "- Data\n",
    "\n",
    "Tätä varten tarvitaan load, save, select ja delete funktio\n",
    "Select ja delete listaa telineet timestampilla sortattuna ja näyttää Time stampin ja nimen. Valitun telineen kuvaaja ja description näytetään interaktiivisella widgetillä. Created time timestamp voi olla myös nimessä niin tyhjäkin nimi on ok."
   ]
  },
  {
   "cell_type": "code",
   "execution_count": 113,
   "metadata": {},
   "outputs": [],
   "source": [
    "import pandas as pd\n",
    "import numpy as np\n",
    "import json\n",
    "import time\n",
    "from datetime import datetime\n",
    "import glob"
   ]
  },
  {
   "cell_type": "code",
   "execution_count": 114,
   "metadata": {},
   "outputs": [
    {
     "data": {
      "text/html": [
       "<div>\n",
       "<style scoped>\n",
       "    .dataframe tbody tr th:only-of-type {\n",
       "        vertical-align: middle;\n",
       "    }\n",
       "\n",
       "    .dataframe tbody tr th {\n",
       "        vertical-align: top;\n",
       "    }\n",
       "\n",
       "    .dataframe thead th {\n",
       "        text-align: right;\n",
       "    }\n",
       "</style>\n",
       "<table border=\"1\" class=\"dataframe\">\n",
       "  <thead>\n",
       "    <tr style=\"text-align: right;\">\n",
       "      <th></th>\n",
       "      <th>holder1</th>\n",
       "    </tr>\n",
       "  </thead>\n",
       "  <tbody>\n",
       "    <tr>\n",
       "      <th>0.0</th>\n",
       "      <td>-11.930027</td>\n",
       "    </tr>\n",
       "    <tr>\n",
       "      <th>0.5</th>\n",
       "      <td>-16.603760</td>\n",
       "    </tr>\n",
       "    <tr>\n",
       "      <th>1.0</th>\n",
       "      <td>-15.658180</td>\n",
       "    </tr>\n",
       "    <tr>\n",
       "      <th>1.5</th>\n",
       "      <td>-10.848916</td>\n",
       "    </tr>\n",
       "    <tr>\n",
       "      <th>2.0</th>\n",
       "      <td>-15.057949</td>\n",
       "    </tr>\n",
       "  </tbody>\n",
       "</table>\n",
       "</div>"
      ],
      "text/plain": [
       "       holder1\n",
       "0.0 -11.930027\n",
       "0.5 -16.603760\n",
       "1.0 -15.658180\n",
       "1.5 -10.848916\n",
       "2.0 -15.057949"
      ]
     },
     "execution_count": 114,
     "metadata": {},
     "output_type": "execute_result"
    }
   ],
   "source": [
    "cal = pd.read_pickle('specimenHolder')\n",
    "cal.head()"
   ]
  },
  {
   "cell_type": "markdown",
   "metadata": {},
   "source": [
    "# Save"
   ]
  },
  {
   "cell_type": "code",
   "execution_count": 115,
   "metadata": {},
   "outputs": [],
   "source": [
    "name = 'name of the holder'\n",
    "description = 'Description text goes here.'\n",
    "weight = 8453.453\n",
    "\n",
    "outdata = {}\n",
    "outdata['name'] = name\n",
    "outdata['edit_time'] = time.time()\n",
    "outdata['description'] = description\n",
    "outdata['weight'] = weight\n",
    "outdata['cal'] = cal.to_json()"
   ]
  },
  {
   "cell_type": "code",
   "execution_count": null,
   "metadata": {},
   "outputs": [],
   "source": [
    "with open('holders/{}_{}.json'.format(datetime.now().isoformat(), name), 'w') as outfile:\n",
    "    json.dump(outdata, outfile)"
   ]
  },
  {
   "cell_type": "markdown",
   "metadata": {},
   "source": [
    "# Load"
   ]
  },
  {
   "cell_type": "code",
   "execution_count": 117,
   "metadata": {},
   "outputs": [
    {
     "name": "stdout",
     "output_type": "stream",
     "text": [
      "Name: name of the holder\n",
      "Edit time: 2019-10-29T11:51:35.172914\n",
      "Description: Description text goes here.\n",
      "Weight: 8453.453\n",
      "Name: name of the holder\n",
      "Edit time: 2019-10-29T11:31:03.684518\n",
      "Description: Description text goes here.\n",
      "Weight: 8453.453\n"
     ]
    }
   ],
   "source": [
    "holderFiles = glob.glob('holders/*.json')\n",
    "holders = []\n",
    "\n",
    "for holderFile in holderFiles:\n",
    "    with open(holderFile) as json_file:\n",
    "        holder = json.load(json_file)\n",
    "        holders.append(holder)\n",
    "\n",
    "for holder in holders:\n",
    "    print('Name: {}'.format(holder['name']))\n",
    "    edit_time = datetime.fromtimestamp(holder['edit_time']).isoformat()\n",
    "    print('Edit time: {}'.format(edit_time))\n",
    "    print('Description: {}'.format(holder['description']))\n",
    "    print('Weight: {}'.format(holder['weight']))\n",
    "    calData = pd.read_json(holder['cal'], convert_axes=False)\n",
    "    calData.index = calData.index.astype(float)\n",
    "    calData[calData.columns] = calData[calData.columns].astype(float)\n",
    "    calData = calData.sort_index()\n",
    "    "
   ]
  },
  {
   "cell_type": "code",
   "execution_count": 118,
   "metadata": {},
   "outputs": [
    {
     "data": {
      "text/html": [
       "<div>\n",
       "<style scoped>\n",
       "    .dataframe tbody tr th:only-of-type {\n",
       "        vertical-align: middle;\n",
       "    }\n",
       "\n",
       "    .dataframe tbody tr th {\n",
       "        vertical-align: top;\n",
       "    }\n",
       "\n",
       "    .dataframe thead th {\n",
       "        text-align: right;\n",
       "    }\n",
       "</style>\n",
       "<table border=\"1\" class=\"dataframe\">\n",
       "  <thead>\n",
       "    <tr style=\"text-align: right;\">\n",
       "      <th></th>\n",
       "      <th>holder1</th>\n",
       "    </tr>\n",
       "  </thead>\n",
       "  <tbody>\n",
       "    <tr>\n",
       "      <th>0.0</th>\n",
       "      <td>-11.930027</td>\n",
       "    </tr>\n",
       "    <tr>\n",
       "      <th>0.5</th>\n",
       "      <td>-16.603760</td>\n",
       "    </tr>\n",
       "    <tr>\n",
       "      <th>1.0</th>\n",
       "      <td>-15.658180</td>\n",
       "    </tr>\n",
       "    <tr>\n",
       "      <th>1.5</th>\n",
       "      <td>-10.848916</td>\n",
       "    </tr>\n",
       "    <tr>\n",
       "      <th>2.0</th>\n",
       "      <td>-15.057949</td>\n",
       "    </tr>\n",
       "  </tbody>\n",
       "</table>\n",
       "</div>"
      ],
      "text/plain": [
       "       holder1\n",
       "0.0 -11.930027\n",
       "0.5 -16.603760\n",
       "1.0 -15.658180\n",
       "1.5 -10.848916\n",
       "2.0 -15.057949"
      ]
     },
     "execution_count": 118,
     "metadata": {},
     "output_type": "execute_result"
    }
   ],
   "source": [
    "calData.head()"
   ]
  },
  {
   "cell_type": "code",
   "execution_count": null,
   "metadata": {},
   "outputs": [],
   "source": []
  }
 ],
 "metadata": {
  "kernelspec": {
   "display_name": "Python 3",
   "language": "python",
   "name": "python3"
  },
  "language_info": {
   "codemirror_mode": {
    "name": "ipython",
    "version": 3
   },
   "file_extension": ".py",
   "mimetype": "text/x-python",
   "name": "python",
   "nbconvert_exporter": "python",
   "pygments_lexer": "ipython3",
   "version": "3.6.4"
  }
 },
 "nbformat": 4,
 "nbformat_minor": 2
}
