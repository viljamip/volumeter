{
 "cells": [
  {
   "cell_type": "markdown",
   "metadata": {},
   "source": [
    "Kalibroinnit jokainen omaan json fileen:\n",
    "- Name\n",
    "- Description\n",
    "- Time-stamp last edit time\n",
    "- Weight\n",
    "- Data\n",
    "\n",
    "Tätä varten tarvitaan load, save, select ja delete funktio\n",
    "Select ja delete listaa telineet timestampilla sortattuna ja näyttää Time stampin ja nimen. Valitun telineen kuvaaja ja description näytetään interaktiivisella widgetillä. Created time timestamp voi olla myös nimessä niin tyhjäkin nimi on ok."
   ]
  },
  {
   "cell_type": "code",
   "execution_count": 184,
   "metadata": {},
   "outputs": [],
   "source": [
    "import pandas as pd\n",
    "import numpy as np\n",
    "import json\n",
    "import time\n",
    "from datetime import datetime\n",
    "import glob\n",
    "import os"
   ]
  },
  {
   "cell_type": "code",
   "execution_count": 24,
   "metadata": {},
   "outputs": [],
   "source": [
    "import ipywidgets as widgets\n",
    "from IPython.display import display\n",
    "import matplotlib.pyplot as plt\n",
    "%matplotlib inline"
   ]
  },
  {
   "cell_type": "code",
   "execution_count": 25,
   "metadata": {
    "scrolled": true
   },
   "outputs": [
    {
     "data": {
      "text/html": [
       "<div>\n",
       "<style scoped>\n",
       "    .dataframe tbody tr th:only-of-type {\n",
       "        vertical-align: middle;\n",
       "    }\n",
       "\n",
       "    .dataframe tbody tr th {\n",
       "        vertical-align: top;\n",
       "    }\n",
       "\n",
       "    .dataframe thead th {\n",
       "        text-align: right;\n",
       "    }\n",
       "</style>\n",
       "<table border=\"1\" class=\"dataframe\">\n",
       "  <thead>\n",
       "    <tr style=\"text-align: right;\">\n",
       "      <th></th>\n",
       "      <th>holder1</th>\n",
       "    </tr>\n",
       "  </thead>\n",
       "  <tbody>\n",
       "    <tr>\n",
       "      <th>0.0</th>\n",
       "      <td>-11.930027</td>\n",
       "    </tr>\n",
       "    <tr>\n",
       "      <th>0.5</th>\n",
       "      <td>-16.603760</td>\n",
       "    </tr>\n",
       "    <tr>\n",
       "      <th>1.0</th>\n",
       "      <td>-15.658180</td>\n",
       "    </tr>\n",
       "    <tr>\n",
       "      <th>1.5</th>\n",
       "      <td>-10.848916</td>\n",
       "    </tr>\n",
       "    <tr>\n",
       "      <th>2.0</th>\n",
       "      <td>-15.057949</td>\n",
       "    </tr>\n",
       "  </tbody>\n",
       "</table>\n",
       "</div>"
      ],
      "text/plain": [
       "       holder1\n",
       "0.0 -11.930027\n",
       "0.5 -16.603760\n",
       "1.0 -15.658180\n",
       "1.5 -10.848916\n",
       "2.0 -15.057949"
      ]
     },
     "execution_count": 25,
     "metadata": {},
     "output_type": "execute_result"
    }
   ],
   "source": [
    "cal = pd.read_pickle('specimenHolder')\n",
    "cal.head()"
   ]
  },
  {
   "cell_type": "markdown",
   "metadata": {},
   "source": [
    "# Save"
   ]
  },
  {
   "cell_type": "code",
   "execution_count": 190,
   "metadata": {},
   "outputs": [],
   "source": [
    "name = 'name'\n",
    "description = 'Description text goes here.'\n",
    "weight = 8453.453\n",
    "\n",
    "outdata = {}\n",
    "timestamp = time.time()\n",
    "outdata['name'] = '{}_{}'.format(name, datetime.fromtimestamp(timestamp).isoformat())\n",
    "outdata['edit_time'] = timestamp\n",
    "outdata['description'] = description\n",
    "outdata['weight'] = weight\n",
    "outdata['cal'] = cal.to_json()"
   ]
  },
  {
   "cell_type": "code",
   "execution_count": 191,
   "metadata": {},
   "outputs": [],
   "source": [
    "with open('holders/{}_{}.json'.format(name, datetime.fromtimestamp(timestamp).isoformat()), 'w') as outfile:\n",
    "    json.dump(outdata, outfile)"
   ]
  },
  {
   "cell_type": "markdown",
   "metadata": {},
   "source": [
    "# Load"
   ]
  },
  {
   "cell_type": "code",
   "execution_count": 211,
   "metadata": {},
   "outputs": [],
   "source": [
    "def loadHolders():\n",
    "    holders = []\n",
    "    holderFiles = glob.glob('holders/*.json')\n",
    "    \n",
    "    for holderFile in holderFiles:\n",
    "        with open(holderFile) as json_file:\n",
    "            holder = json.load(json_file)\n",
    "            holders.append(holder)\n",
    "\n",
    "    firstHolder = True\n",
    "    for holder in holders:\n",
    "        print(holder['name'])\n",
    "        calData = pd.read_json(holder['cal'], convert_axes=False)\n",
    "        calData.index = calData.index.astype(float)\n",
    "        calData[calData.columns] = calData[calData.columns].astype(float)\n",
    "        calData = calData.sort_index()\n",
    "        holder['cal'] = calData\n",
    "\n",
    "        if(firstHolder):\n",
    "            firstHolder = False\n",
    "            holdersDF = pd.DataFrame(holder['cal'])\n",
    "            holdersDF.rename(columns={holdersDF.columns[0] : holder['name']}, inplace = True)\n",
    "        else:\n",
    "            holdersDF[holder['name']] = holder['cal']\n",
    "        \n",
    "    return holders, holdersDF\n"
   ]
  },
  {
   "cell_type": "code",
   "execution_count": 212,
   "metadata": {},
   "outputs": [
    {
     "name": "stdout",
     "output_type": "stream",
     "text": [
      "name_2019-11-04T16:12:22.724541\n",
      "name_2019-11-04T16:04:32.303658\n"
     ]
    }
   ],
   "source": [
    "holders, holdersDF = loadHolders()"
   ]
  },
  {
   "cell_type": "code",
   "execution_count": 213,
   "metadata": {},
   "outputs": [
    {
     "data": {
      "text/html": [
       "<div>\n",
       "<style scoped>\n",
       "    .dataframe tbody tr th:only-of-type {\n",
       "        vertical-align: middle;\n",
       "    }\n",
       "\n",
       "    .dataframe tbody tr th {\n",
       "        vertical-align: top;\n",
       "    }\n",
       "\n",
       "    .dataframe thead th {\n",
       "        text-align: right;\n",
       "    }\n",
       "</style>\n",
       "<table border=\"1\" class=\"dataframe\">\n",
       "  <thead>\n",
       "    <tr style=\"text-align: right;\">\n",
       "      <th></th>\n",
       "      <th>name_2019-11-04T16:12:22.724541</th>\n",
       "      <th>name_2019-11-04T16:04:32.303658</th>\n",
       "    </tr>\n",
       "  </thead>\n",
       "  <tbody>\n",
       "    <tr>\n",
       "      <th>0.0</th>\n",
       "      <td>-11.930027</td>\n",
       "      <td>-11.930027</td>\n",
       "    </tr>\n",
       "    <tr>\n",
       "      <th>0.5</th>\n",
       "      <td>-16.603760</td>\n",
       "      <td>-16.603760</td>\n",
       "    </tr>\n",
       "    <tr>\n",
       "      <th>1.0</th>\n",
       "      <td>-15.658180</td>\n",
       "      <td>-15.658180</td>\n",
       "    </tr>\n",
       "    <tr>\n",
       "      <th>1.5</th>\n",
       "      <td>-10.848916</td>\n",
       "      <td>-10.848916</td>\n",
       "    </tr>\n",
       "    <tr>\n",
       "      <th>2.0</th>\n",
       "      <td>-15.057949</td>\n",
       "      <td>-15.057949</td>\n",
       "    </tr>\n",
       "  </tbody>\n",
       "</table>\n",
       "</div>"
      ],
      "text/plain": [
       "     name_2019-11-04T16:12:22.724541  name_2019-11-04T16:04:32.303658\n",
       "0.0                       -11.930027                       -11.930027\n",
       "0.5                       -16.603760                       -16.603760\n",
       "1.0                       -15.658180                       -15.658180\n",
       "1.5                       -10.848916                       -10.848916\n",
       "2.0                       -15.057949                       -15.057949"
      ]
     },
     "execution_count": 213,
     "metadata": {},
     "output_type": "execute_result"
    }
   ],
   "source": [
    "holdersDF.head()"
   ]
  },
  {
   "cell_type": "code",
   "execution_count": 235,
   "metadata": {},
   "outputs": [],
   "source": [
    "global selectedHolder\n",
    "global holderSelector\n",
    "global holders\n",
    "\n",
    "def selectSpecimenHolder(df):\n",
    "    global holderSelector\n",
    "    global holders\n",
    "    \n",
    "    holderSelector = widgets.Select(\n",
    "    options=df.columns,\n",
    "    value=df.columns[0],\n",
    "    description='Holder: ',\n",
    "    disabled=False,\n",
    "    layout = widgets.Layout(height='100px')\n",
    "    )\n",
    "    \n",
    "    selButton = widgets.Button(\n",
    "    description='Select',\n",
    "    disabled=False,\n",
    "    button_style='', # 'success', 'info', 'warning', 'danger' or ''\n",
    "    tooltip='Apply the specimen holder selection',\n",
    "    icon='check'\n",
    "    )\n",
    "    \n",
    "    delButton = widgets.Button(\n",
    "    description='Delete',\n",
    "    disabled=False,\n",
    "    button_style='danger', # 'success', 'info', 'warning', 'danger' or ''\n",
    "    tooltip='Delete the selected holder',\n",
    "    #icon='check'\n",
    "    )\n",
    "    \n",
    "    buttons = widgets.HBox([selButton, delButton])\n",
    "    widgets.interact(plotSpecimenHolder, df=widgets.fixed(df), column=holderSelector)\n",
    "    display(buttons)\n",
    "    selButton.on_click(applyHolderSelection)\n",
    "    delButton.on_click(deleteHolder)\n",
    "    \n",
    "def plotSpecimenHolder(df, column):\n",
    "    global selectedHolder\n",
    "    %matplotlib notebook\n",
    "    fig=plt.figure(column, figsize=(4,3), dpi=80)\n",
    "    plt.plot(df[column])\n",
    "    plt.show()\n",
    "    selectedHolder = column\n",
    "\n",
    "def applyHolderSelection(b):\n",
    "    print('Selected holder: {}'.format(selectedHolder))\n",
    "    b.close()\n",
    "    holderSelector.close()\n",
    "    \n",
    "def deleteHolder(b):\n",
    "    global holders\n",
    "    holderFiles = glob.glob('holders/*.json')\n",
    "    for file in holderFiles:\n",
    "        if selectedHolder in file:\n",
    "            os.remove(file)\n",
    "    holders, holdersDF = loadHolders()\n",
    "    holderSelector.options = holdersDF\n",
    "    "
   ]
  },
  {
   "cell_type": "code",
   "execution_count": 236,
   "metadata": {},
   "outputs": [
    {
     "data": {
      "application/vnd.jupyter.widget-view+json": {
       "model_id": "a5ae46147c174ca18b66baa2b799af84",
       "version_major": 2,
       "version_minor": 0
      },
      "text/plain": [
       "interactive(children=(Select(description='Holder: ', layout=Layout(height='100px'), options=('name_2019-11-04T…"
      ]
     },
     "metadata": {},
     "output_type": "display_data"
    },
    {
     "data": {
      "application/vnd.jupyter.widget-view+json": {
       "model_id": "2d29f85ebf9f4ca08fbdd943d471bc67",
       "version_major": 2,
       "version_minor": 0
      },
      "text/plain": [
       "HBox(children=(Button(description='Select', icon='check', style=ButtonStyle(), tooltip='Apply the specimen hol…"
      ]
     },
     "metadata": {},
     "output_type": "display_data"
    }
   ],
   "source": [
    "selectSpecimenHolder(holdersDF)"
   ]
  },
  {
   "cell_type": "code",
   "execution_count": null,
   "metadata": {},
   "outputs": [],
   "source": []
  }
 ],
 "metadata": {
  "kernelspec": {
   "display_name": "Python 3",
   "language": "python",
   "name": "python3"
  },
  "language_info": {
   "codemirror_mode": {
    "name": "ipython",
    "version": 3
   },
   "file_extension": ".py",
   "mimetype": "text/x-python",
   "name": "python",
   "nbconvert_exporter": "python",
   "pygments_lexer": "ipython3",
   "version": "3.6.4"
  }
 },
 "nbformat": 4,
 "nbformat_minor": 2
}
