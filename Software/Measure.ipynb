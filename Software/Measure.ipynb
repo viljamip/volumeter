{
 "cells": [
  {
   "cell_type": "markdown",
   "metadata": {},
   "source": [
    "Ehkä on järkevintä tehdä volumeter moduuli joka importataan tänne. Class Volumeter ei ole hyödyllinen, koska tarvitaan vian yksi instanssi."
   ]
  },
  {
   "cell_type": "code",
   "execution_count": 8,
   "metadata": {},
   "outputs": [
    {
     "data": {
      "text/plain": [
       "<module 'volumeter' from '/home/pi/Desktop/dimensiometer/Software/volumeter.py'>"
      ]
     },
     "execution_count": 8,
     "metadata": {},
     "output_type": "execute_result"
    }
   ],
   "source": [
    "import volumeter\n",
    "\n",
    "# TODO poista nää turhat devausvaiheen importin reloadaukset\n",
    "import importlib\n",
    "importlib.reload(volumeter)"
   ]
  },
  {
   "cell_type": "code",
   "execution_count": 9,
   "metadata": {},
   "outputs": [
    {
     "name": "stdout",
     "output_type": "stream",
     "text": [
      "initSensors()\n",
      "/dev/ttyUSB0\n"
     ]
    }
   ],
   "source": [
    "motionControlPort = '/dev/ttyUSB1'\n",
    "sensorPort = '/dev/ttyUSB0'\n",
    "volumeter.initSensors(sensorPort)"
   ]
  },
  {
   "cell_type": "code",
   "execution_count": null,
   "metadata": {},
   "outputs": [],
   "source": []
  }
 ],
 "metadata": {
  "kernelspec": {
   "display_name": "Python 3",
   "language": "python",
   "name": "python3"
  },
  "language_info": {
   "codemirror_mode": {
    "name": "ipython",
    "version": 3
   },
   "file_extension": ".py",
   "mimetype": "text/x-python",
   "name": "python",
   "nbconvert_exporter": "python",
   "pygments_lexer": "ipython3",
   "version": "3.5.3"
  }
 },
 "nbformat": 4,
 "nbformat_minor": 2
}
