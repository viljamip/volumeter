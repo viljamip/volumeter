{
 "cells": [
  {
   "cell_type": "markdown",
   "metadata": {},
   "source": [
    "# Volumeter"
   ]
  },
  {
   "cell_type": "code",
   "execution_count": 68,
   "metadata": {},
   "outputs": [],
   "source": [
    "import serial\n",
    "import pandas as pd\n",
    "import numpy as np\n",
    "import time"
   ]
  },
  {
   "cell_type": "markdown",
   "metadata": {},
   "source": []
  },
  {
   "cell_type": "code",
   "execution_count": 141,
   "metadata": {},
   "outputs": [],
   "source": [
    "global loadCellConstants\n",
    "\n",
    "def readLoadCellCalibration():\n",
    "    cal = np.genfromtxt('loadCellCalibration.csv', delimiter=',')\n",
    "    return cal\n",
    "\n",
    "def initMotionControl():\n",
    "    motionControlPort = '/dev/ttyUSB1'\n",
    "    return serial.Serial(port=motionControlPort, baudrate=115200)\n",
    "\n",
    "def initSensors():\n",
    "    global loadCellConstants\n",
    "    loadCellConstants = readLoadCellCalibration()\n",
    "    \n",
    "    sensorPort = '/dev/ttyUSB0'\n",
    "    return serial.Serial(port=sensorPort, baudrate=115200)\n",
    "\n",
    "def closeSerial(serial):\n",
    "    serial.close()\n",
    "\n",
    "def sendMotionCommand(serial, cmd):\n",
    "    serial.write('{0}\\n'.format(cmd).encode('utf-8'))\n",
    "    serial.flushInput()\n",
    "    grbl_out = serial.readline()\n",
    "    return grbl_out.decode()\n",
    "\n",
    "def motionFinished(serial, wait=False):\n",
    "    finished = False\n",
    "    if(wait):\n",
    "        while(not finished):\n",
    "            time.sleep(0.5)\n",
    "            grbl_out = sendMotionCommand(serial, '?')\n",
    "            finished = 'Idle' in str(grbl_out)\n",
    "        return True\n",
    "    else:\n",
    "        serial.write('?'.encode('utf-8'))\n",
    "        serial.flushInput()\n",
    "        grbl_out = sendMotionCommand(serial, '?')\n",
    "        return 'Idle' in str(grbl_out)\n",
    "\n",
    "def homingCycle(serial):\n",
    "    cycle = ['?', 'G91', 'G38.2Z2500F2000', 'G1Z-20F1000',\n",
    "             'G38.2X-560Z-560F300', 'G1X10Z10F300', 'G10L20P1X0Y0Z0',\n",
    "            'G90', 'G1Z-1650F3000']\n",
    "    for c in cycle:\n",
    "        sendMotionCommand(serial, c)\n",
    "    motionFinished(serial, wait=True)\n",
    "\n",
    "def recordSensors(serial, numSamples):\n",
    "    serial.flushInput()\n",
    "    samplesRead = 0\n",
    "    df = pd.DataFrame(columns=['time', 'loadCell', 'level'], dtype='float')\n",
    "    while(samplesRead < numSamples):\n",
    "        samplesRead += 1\n",
    "        data = np.array(serial.readline().decode().rstrip().split(','))\n",
    "        data = data.astype(np.float)\n",
    "        df.loc[len(df)] = data\n",
    "    df.set_index(['time'])\n",
    "    return df\n",
    "\n",
    "def meanWeight(serial, numSamples):\n",
    "    data = recordSensors(serial, numSamples)\n",
    "    return data['loadCell'].mean()\n",
    "\n",
    "def calibrateLoadCell(serial, numWeights=1):\n",
    "    print(\"aa\")\n",
    "    grams = []\n",
    "    values = []\n",
    "    print(\"Load Cell Calibration\")\n",
    "    print(\"Leave the specimen holder empty\")\n",
    "    input(\"Hit enter when the specimen holder is stationary\")\n",
    "    print(\"Wait for 5 seconds...\")\n",
    "    grams.append(0.0)\n",
    "    values.append(meanWeight(serial, 80*5))\n",
    "    while(numWeights > 0):\n",
    "        numWeights -= 1\n",
    "        while(True):\n",
    "            try:\n",
    "                calWeight = input(\"Mass of the calibration weight in kg: \").rstrip().replace(',', '.')\n",
    "                grams.append(float(calWeight)*1000.0)\n",
    "                break\n",
    "            except:\n",
    "                print(\"Insuitable mass value\")\n",
    "\n",
    "        print(\"Add the calibratrion weight to the specimen holder\")\n",
    "        input(\"Hit enter when the specimen holder is stationary\")\n",
    "        print(\"Wait for 5 seconds...\")\n",
    "        values.append(meanWeight(serial, 80*5))\n",
    "    calibrationConstants = np.polyfit(values, grams, 1)\n",
    "    print(\"Calibration: y = {:.2f}x+{:.2f}\".format(calibrationConstants[0], calibrationConstants[1]))\n",
    "    save = input(\"Save calibration (y/n)\")\n",
    "    if('y' in save.lower()):\n",
    "        np.savetxt('loadCellCalibration.csv', calibrationConstants, delimiter=',')\n",
    "        print('Calibration saved')\n",
    "    else:\n",
    "        print('Calibration cancelled')\n",
    "        "
   ]
  },
  {
   "cell_type": "code",
   "execution_count": 143,
   "metadata": {},
   "outputs": [],
   "source": [
    "mcSerial = initMotionControl()\n",
    "finished = motionFinished(mcSerial, wait=True)\n",
    "homingCycle(mcSerial)\n",
    "mcSerial.close()"
   ]
  },
  {
   "cell_type": "code",
   "execution_count": 142,
   "metadata": {},
   "outputs": [
    {
     "name": "stdout",
     "output_type": "stream",
     "text": [
      "[-0.050 -6162.085]\n"
     ]
    }
   ],
   "source": [
    "sensorSerial = initSensors()\n",
    "#data = recordSensors(sensorSerial, 10)\n",
    "#mw = meanWeight(sensorSerial, 100)\n",
    "#calibrateLoadCell(sensorSerial, numWeights = 2)\n",
    "closeSerial(sensorSerial)\n",
    "print(loadCellConstants)"
   ]
  }
 ],
 "metadata": {
  "kernelspec": {
   "display_name": "Python 3",
   "language": "python",
   "name": "python3"
  },
  "language_info": {
   "codemirror_mode": {
    "name": "ipython",
    "version": 3
   },
   "file_extension": ".py",
   "mimetype": "text/x-python",
   "name": "python",
   "nbconvert_exporter": "python",
   "pygments_lexer": "ipython3",
   "version": "3.7.3"
  }
 },
 "nbformat": 4,
 "nbformat_minor": 2
}
