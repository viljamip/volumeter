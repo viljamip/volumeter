{
 "cells": [
  {
   "cell_type": "markdown",
   "metadata": {},
   "source": [
    "# Volumeter"
   ]
  },
  {
   "cell_type": "markdown",
   "metadata": {},
   "source": [
    "TODO\n",
    "- measurementCycle(loweringSpeed)\n",
    "- calibrateHolder()\n",
    "- syncMeasurementData()\n",
    "- calculateVolume()\n",
    "- visualize()\n",
    "- exportCSV()"
   ]
  },
  {
   "cell_type": "code",
   "execution_count": 155,
   "metadata": {},
   "outputs": [],
   "source": [
    "import serial\n",
    "import pandas as pd\n",
    "import numpy as np\n",
    "import time\n",
    "import os"
   ]
  },
  {
   "cell_type": "code",
   "execution_count": 150,
   "metadata": {},
   "outputs": [],
   "source": [
    "global loadCellConstants\n",
    "global mcSerial\n",
    "global sensorSerial\n",
    "\n",
    "def readLoadCellCalibration():\n",
    "    cal = np.genfromtxt('loadCellCalibration.csv', delimiter=',')\n",
    "    return cal\n",
    "\n",
    "def loadCellToGrams(value):\n",
    "    return value*loadCellConstants[0] + loadCellConstants[1]\n",
    "\n",
    "def initMotionControl():\n",
    "    global mcSerial\n",
    "    motionControlPort = '/dev/ttyUSB1'\n",
    "    mcSerial = serial.Serial(port=motionControlPort, baudrate=115200)\n",
    "\n",
    "def initSensors():\n",
    "    global sensorSerial\n",
    "    global loadCellConstants\n",
    "    loadCellConstants = readLoadCellCalibration()\n",
    "    \n",
    "    sensorPort = '/dev/ttyUSB0'\n",
    "    sensorSerial = serial.Serial(port=sensorPort, baudrate=115200)\n",
    "\n",
    "def closeSerial(serial):\n",
    "    serial.close()\n",
    "\n",
    "def sendMotionCommand(cmd):\n",
    "    mcSerial.write('{0}\\n'.format(cmd).encode('utf-8'))\n",
    "    mcSerial.flushInput()\n",
    "    grbl_out = mcSerial.readline()\n",
    "    return grbl_out.decode()\n",
    "\n",
    "def motionFinished(wait=False):\n",
    "    finished = False\n",
    "    if(wait):\n",
    "        while(not finished):\n",
    "            time.sleep(0.5)\n",
    "            grbl_out = sendMotionCommand('?')\n",
    "            finished = 'Idle' in str(grbl_out)\n",
    "        return True\n",
    "    else:\n",
    "        grbl_out = sendMotionCommand(serial, '?')\n",
    "        return 'Idle' in str(grbl_out)\n",
    "\n",
    "def homingCycle():\n",
    "    cycle = ['?', 'G91', 'G38.2Z2500F2000', 'G1Z-20F1000',\n",
    "             'G38.2X-560Z-560F300', 'G1X10Z10F300', 'G10L20P1X0Y0Z0',\n",
    "            'G90', 'G1Z-1650F3000']\n",
    "    for c in cycle:\n",
    "        sendMotionCommand(c)\n",
    "    motionFinished(wait=True)\n",
    "\n",
    "def recordSensors(numSamples):\n",
    "    sensorSerial.flushInput()\n",
    "    samplesRead = 0\n",
    "    df = pd.DataFrame(columns=['time', 'loadCell', 'level'], dtype='float')\n",
    "    while(samplesRead < numSamples):\n",
    "        samplesRead += 1\n",
    "        data = np.array(sensorSerial.readline().decode().rstrip().split(','))\n",
    "        data = data.astype(np.float)\n",
    "        df.loc[len(df)] = data\n",
    "    df.set_index(['time'])\n",
    "    return df\n",
    "\n",
    "def meanLoadCell(numSamples):\n",
    "    data = recordSensors(numSamples)\n",
    "    return data['loadCell'].mean()\n",
    "\n",
    "def meanWeight(numSamples):\n",
    "    data = recordSensors(numSamples)\n",
    "    mean = data['loadCell'].mean()\n",
    "    return loadCellToGrams(mean)\n",
    "\n",
    "def calibrateLoadCell(numWeights=1):\n",
    "    grams = []\n",
    "    values = []\n",
    "    print(\"Load Cell Calibration\")\n",
    "    print(\"Leave the specimen holder empty\")\n",
    "    input(\"Hit enter when the specimen holder is stationary\")\n",
    "    print(\"Wait for 5 seconds...\")\n",
    "    grams.append(0.0)\n",
    "    values.append(meanLoadCell(80*5))\n",
    "    while(numWeights > 0):\n",
    "        numWeights -= 1\n",
    "        while(True):\n",
    "            try:\n",
    "                calWeight = input(\"Mass of the calibration weight in kg: \").rstrip().replace(',', '.')\n",
    "                grams.append(float(calWeight)*1000.0)\n",
    "                break\n",
    "            except:\n",
    "                print(\"Insuitable mass value\")\n",
    "\n",
    "        print(\"Add the calibratrion weight to the specimen holder\")\n",
    "        input(\"Hit enter when the specimen holder is stationary\")\n",
    "        print(\"Wait for 5 seconds...\")\n",
    "        values.append(meanLoadCellmeanWeight(80*5))\n",
    "    calibrationConstants = np.polyfit(values, grams, 1)\n",
    "    print(\"Calibration: y = {:.2f}x+{:.2f}\".format(calibrationConstants[0], calibrationConstants[1]))\n",
    "    save = input(\"Save calibration (y/n)\")\n",
    "    if('y' in save.lower()):\n",
    "        np.savetxt('loadCellCalibration.csv', calibrationConstants, delimiter=',')\n",
    "        print('Calibration saved')\n",
    "    else:\n",
    "        print('Calibration cancelled')\n",
    "        "
   ]
  },
  {
   "cell_type": "code",
   "execution_count": 154,
   "metadata": {},
   "outputs": [],
   "source": [
    "initMotionControl()\n",
    "finished = motionFinished(wait=True)\n",
    "homingCycle()\n",
    "closeSerial(mcSerial)"
   ]
  },
  {
   "cell_type": "code",
   "execution_count": 149,
   "metadata": {},
   "outputs": [
    {
     "name": "stdout",
     "output_type": "stream",
     "text": [
      "5.847726379830419\n"
     ]
    }
   ],
   "source": [
    "initSensors()\n",
    "#data = recordSensors(10)\n",
    "mw = meanWeight(100)\n",
    "#calibrateLoadCell(numWeights = 2)\n",
    "closeSerial(sensorSerial)\n",
    "print(mw)"
   ]
  },
  {
   "cell_type": "code",
   "execution_count": 12,
   "metadata": {},
   "outputs": [
    {
     "name": "stdout",
     "output_type": "stream",
     "text": [
      "/dev/ttyUSB1\n"
     ]
    },
    {
     "ename": "NameError",
     "evalue": "name 'readLoadCellCalibration' is not defined",
     "output_type": "error",
     "traceback": [
      "\u001b[0;31m---------------------------------------------------------------------------\u001b[0m",
      "\u001b[0;31mNameError\u001b[0m                                 Traceback (most recent call last)",
      "\u001b[0;32m<ipython-input-12-ddb9fbcee396>\u001b[0m in \u001b[0;36m<module>\u001b[0;34m\u001b[0m\n\u001b[1;32m      1\u001b[0m \u001b[0;32mimport\u001b[0m \u001b[0mVolumeter\u001b[0m\u001b[0;34m\u001b[0m\u001b[0m\n\u001b[1;32m      2\u001b[0m \u001b[0;34m\u001b[0m\u001b[0m\n\u001b[0;32m----> 3\u001b[0;31m \u001b[0mvolumeter\u001b[0m \u001b[0;34m=\u001b[0m \u001b[0mVolumeter\u001b[0m\u001b[0;34m.\u001b[0m\u001b[0mVolumeter\u001b[0m\u001b[0;34m(\u001b[0m\u001b[0;34m)\u001b[0m\u001b[0;34m\u001b[0m\u001b[0m\n\u001b[0m",
      "\u001b[0;32m~/Desktop/Koulu/dimensiometer/Software/Volumeter.py\u001b[0m in \u001b[0;36m__init__\u001b[0;34m(self)\u001b[0m\n\u001b[1;32m     13\u001b[0m     \u001b[0;32mdef\u001b[0m \u001b[0minitSensors\u001b[0m\u001b[0;34m(\u001b[0m\u001b[0mself\u001b[0m\u001b[0;34m)\u001b[0m\u001b[0;34m:\u001b[0m\u001b[0;34m\u001b[0m\u001b[0m\n\u001b[1;32m     14\u001b[0m         \u001b[0mprint\u001b[0m\u001b[0;34m(\u001b[0m\u001b[0;34m\"initSensors()\"\u001b[0m\u001b[0;34m)\u001b[0m\u001b[0;34m\u001b[0m\u001b[0m\n\u001b[0;32m---> 15\u001b[0;31m \u001b[0;34m\u001b[0m\u001b[0m\n\u001b[0m\u001b[1;32m     16\u001b[0m         \u001b[0mprint\u001b[0m\u001b[0;34m(\u001b[0m\u001b[0msensorPort\u001b[0m\u001b[0;34m)\u001b[0m\u001b[0;34m\u001b[0m\u001b[0m\n\u001b[1;32m     17\u001b[0m \u001b[0;34m\u001b[0m\u001b[0m\n",
      "\u001b[0;32m~/Desktop/Koulu/dimensiometer/Software/Volumeter.py\u001b[0m in \u001b[0;36minitSensors\u001b[0;34m(self)\u001b[0m\n\u001b[1;32m     20\u001b[0m \u001b[0;34m\u001b[0m\u001b[0m\n\u001b[1;32m     21\u001b[0m     \u001b[0;32mdef\u001b[0m \u001b[0m__init__\u001b[0m\u001b[0;34m(\u001b[0m\u001b[0mself\u001b[0m\u001b[0;34m)\u001b[0m\u001b[0;34m:\u001b[0m\u001b[0;34m\u001b[0m\u001b[0m\n\u001b[0;32m---> 22\u001b[0;31m         \u001b[0mprint\u001b[0m\u001b[0;34m(\u001b[0m\u001b[0mmotionControlPort\u001b[0m\u001b[0;34m)\u001b[0m\u001b[0;34m\u001b[0m\u001b[0m\n\u001b[0m\u001b[1;32m     23\u001b[0m         \u001b[0;31m#self.initSensors()\u001b[0m\u001b[0;34m\u001b[0m\u001b[0;34m\u001b[0m\u001b[0m\n\u001b[1;32m     24\u001b[0m \u001b[0;34m\u001b[0m\u001b[0m\n",
      "\u001b[0;31mNameError\u001b[0m: name 'readLoadCellCalibration' is not defined"
     ]
    }
   ],
   "source": [
    "import Volumeter\n",
    "\n",
    "volumeter = Volumeter.Volumeter()"
   ]
  },
  {
   "cell_type": "code",
   "execution_count": null,
   "metadata": {},
   "outputs": [],
   "source": [
    "os.system('sudo shutdown.sh')"
   ]
  }
 ],
 "metadata": {
  "kernelspec": {
   "display_name": "Python 3",
   "language": "python",
   "name": "python3"
  },
  "language_info": {
   "codemirror_mode": {
    "name": "ipython",
    "version": 3
   },
   "file_extension": ".py",
   "mimetype": "text/x-python",
   "name": "python",
   "nbconvert_exporter": "python",
   "pygments_lexer": "ipython3",
   "version": "3.6.4"
  }
 },
 "nbformat": 4,
 "nbformat_minor": 2
}
