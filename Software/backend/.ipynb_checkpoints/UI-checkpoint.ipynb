{
 "cells": [
  {
   "cell_type": "code",
   "execution_count": 93,
   "metadata": {},
   "outputs": [],
   "source": [
    "from IPython.core.display import clear_output\n",
    "import import_ipynb\n",
    "import ipywidgets as widgets\n",
    "from IPython.display import display\n",
    "import markdown \n",
    "from ipywidgets import HTML"
   ]
  },
  {
   "cell_type": "code",
   "execution_count": 21,
   "metadata": {},
   "outputs": [],
   "source": [
    "def startup(b):\n",
    "    print('startup')\n",
    "    \n",
    "def shutdown(b):\n",
    "    print('shutdown')"
   ]
  },
  {
   "cell_type": "code",
   "execution_count": 103,
   "metadata": {},
   "outputs": [],
   "source": [
    "title = markdown.markdown(\"\"\"# Volumeter\"\"\")"
   ]
  },
  {
   "cell_type": "code",
   "execution_count": 97,
   "metadata": {},
   "outputs": [],
   "source": [
    "startButton = widgets.Button(\n",
    "    description='Startup',\n",
    "    disabled=False,\n",
    "    button_style='', # 'success', 'info', 'warning', 'danger' or ''\n",
    "    tooltip='Initialize the system and run the homing cyle',\n",
    "    icon='play'\n",
    ")\n",
    "startButton.on_click(startup)\n",
    "\n",
    "shutdownButton = widgets.Button(\n",
    "    description='Shutdown',\n",
    "    disabled=False,\n",
    "    button_style='danger', # 'success', 'info', 'warning', 'danger' or ''\n",
    "    tooltip='Shutdown the system so it is safe to power off',\n",
    "    icon='power-off'\n",
    ")\n",
    "shutdownButton.on_click(shutdown)\n",
    "\n",
    "selectHolderButton = widgets.Button(\n",
    "    description='Select Holder',\n",
    "    disabled=False,\n",
    "    button_style='', # 'success', 'info', 'warning', 'danger' or ''\n",
    "    tooltip='Select the specimen holder that will be used for the next measurement',\n",
    "    icon='list'\n",
    ")\n",
    "selectHolderButton.on_click(shutdown)\n",
    "\n",
    "measureButton = widgets.Button(\n",
    "    description='Measure',\n",
    "    disabled=False,\n",
    "    button_style='', # 'success', 'info', 'warning', 'danger' or ''\n",
    "    tooltip='Run the measurement cycle',\n",
    "    icon='balance-scale'\n",
    ")\n",
    "measureButton.on_click(shutdown)"
   ]
  },
  {
   "cell_type": "code",
   "execution_count": 98,
   "metadata": {},
   "outputs": [],
   "source": [
    "measureTabContet = widgets.HBox([selectHolderButton, measureButton])"
   ]
  },
  {
   "cell_type": "code",
   "execution_count": 99,
   "metadata": {},
   "outputs": [],
   "source": [
    "tab_contents = ['Measure', 'Calibrate', 'Other']\n",
    "children = [measureTabContet, selectHolderButton, selectHolderButton]\n",
    "tab = widgets.Tab()\n",
    "tab.children = children\n",
    "for i in range(len(tab_contents)):\n",
    "    tab.set_title(i, tab_contents[i])\n"
   ]
  },
  {
   "cell_type": "code",
   "execution_count": 104,
   "metadata": {},
   "outputs": [
    {
     "data": {
      "application/vnd.jupyter.widget-view+json": {
       "model_id": "74303844ee0248148494c224c789d5f4",
       "version_major": 2,
       "version_minor": 0
      },
      "text/plain": [
       "VBox(children=(HTML(value='<h1>Volumeter</h1>'), Button(description='Startup', icon='play', style=ButtonStyle(…"
      ]
     },
     "metadata": {},
     "output_type": "display_data"
    }
   ],
   "source": [
    "widgets.VBox([HTML(title), startButton, tab, shutdownButton])"
   ]
  },
  {
   "cell_type": "code",
   "execution_count": null,
   "metadata": {},
   "outputs": [],
   "source": []
  }
 ],
 "metadata": {
  "kernelspec": {
   "display_name": "Python 3",
   "language": "python",
   "name": "python3"
  },
  "language_info": {
   "codemirror_mode": {
    "name": "ipython",
    "version": 3
   },
   "file_extension": ".py",
   "mimetype": "text/x-python",
   "name": "python",
   "nbconvert_exporter": "python",
   "pygments_lexer": "ipython3",
   "version": "3.6.4"
  }
 },
 "nbformat": 4,
 "nbformat_minor": 2
}
