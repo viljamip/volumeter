{
 "cells": [
  {
   "cell_type": "code",
   "execution_count": 2,
   "metadata": {},
   "outputs": [
    {
     "ename": "ModuleNotFoundError",
     "evalue": "No module named 'backend'",
     "output_type": "error",
     "traceback": [
      "\u001b[0;31m---------------------------------------------------------------------------\u001b[0m",
      "\u001b[0;31mModuleNotFoundError\u001b[0m                       Traceback (most recent call last)",
      "\u001b[0;32m<ipython-input-2-1da39cb1f96c>\u001b[0m in \u001b[0;36m<module>\u001b[0;34m\u001b[0m\n\u001b[1;32m      6\u001b[0m \u001b[0;32mfrom\u001b[0m \u001b[0mipywidgets\u001b[0m \u001b[0;32mimport\u001b[0m \u001b[0mHTML\u001b[0m\u001b[0;34m\u001b[0m\u001b[0m\n\u001b[1;32m      7\u001b[0m \u001b[0;32mimport\u001b[0m \u001b[0mimport_ipynb\u001b[0m\u001b[0;34m\u001b[0m\u001b[0m\n\u001b[0;32m----> 8\u001b[0;31m \u001b[0;32mimport\u001b[0m \u001b[0mVolumeter_backend\u001b[0m \u001b[0;32mas\u001b[0m \u001b[0mvolumeter\u001b[0m\u001b[0;34m\u001b[0m\u001b[0m\n\u001b[0m",
      "\u001b[0;32m~/Desktop/Koulu/dimensiometer/Software/backend/Volumeter_backend.py\u001b[0m in \u001b[0;36m<module>\u001b[0;34m\u001b[0m\n\u001b[1;32m      9\u001b[0m \u001b[0;32mimport\u001b[0m \u001b[0mimport_ipynb\u001b[0m\u001b[0;34m\u001b[0m\u001b[0m\n\u001b[1;32m     10\u001b[0m \u001b[0;32mfrom\u001b[0m \u001b[0mdatetime\u001b[0m \u001b[0;32mimport\u001b[0m \u001b[0mdatetime\u001b[0m\u001b[0;34m\u001b[0m\u001b[0m\n\u001b[0;32m---> 11\u001b[0;31m \u001b[0;32mimport\u001b[0m \u001b[0mbackend\u001b[0m\u001b[0;34m.\u001b[0m\u001b[0mDataProcessing\u001b[0m \u001b[0;32mas\u001b[0m \u001b[0mdp\u001b[0m\u001b[0;34m\u001b[0m\u001b[0m\n\u001b[0m\u001b[1;32m     12\u001b[0m \u001b[0;32mimport\u001b[0m \u001b[0mbackend\u001b[0m\u001b[0;34m.\u001b[0m\u001b[0mHardware\u001b[0m \u001b[0;32mas\u001b[0m \u001b[0mhw\u001b[0m\u001b[0;34m\u001b[0m\u001b[0m\n\u001b[1;32m     13\u001b[0m \u001b[0;34m\u001b[0m\u001b[0m\n",
      "\u001b[0;31mModuleNotFoundError\u001b[0m: No module named 'backend'"
     ]
    }
   ],
   "source": [
    "from IPython.core.display import clear_output\n",
    "import import_ipynb\n",
    "import ipywidgets as widgets\n",
    "from IPython.display import display\n",
    "import markdown \n",
    "from ipywidgets import HTML\n",
    "import import_ipynb\n",
    "import backend.Volumeter_backend as volumeter"
   ]
  },
  {
   "cell_type": "code",
   "execution_count": null,
   "metadata": {},
   "outputs": [],
   "source": [
    "def buttonHandler(b):\n",
    "    buttonName = b.description\n",
    "    \n",
    "    if(buttonName == 'Startup'):\n",
    "        volumeter.startup()\n",
    "    elif(buttonName == 'Shutdown'):\n",
    "        volumeter.shutdown()\n",
    "    elif(buttonName == 'Select Holder'):\n",
    "        volumeter.selectHolder()\n",
    "    elif(buttonName == 'Measure'):\n",
    "        volumeter.measure()\n",
    "    elif(buttonName == 'Calibrate Holder'):\n",
    "        numAverages = int(numHolderDipsDropDown.value)\n",
    "        volumeter.calibrateHolder(numAverages)\n",
    "    elif(buttonName == 'Calibrate Load Cell'):\n",
    "        numWeights = int(numCalWeightsDropDown.value)\n",
    "        volumeter.calibrateLoadCell(numWeights)\n",
    "    elif(buttonName == 'Homing cycle'):\n",
    "        volumeter.homing()\n",
    "    elif(buttonName == 'Reset'):\n",
    "        #volumeter.reset()\n",
    "        print('Not implemented')"
   ]
  },
  {
   "cell_type": "code",
   "execution_count": null,
   "metadata": {},
   "outputs": [],
   "source": [
    "title = markdown.markdown(\"\"\"# Volumeter\"\"\")"
   ]
  },
  {
   "cell_type": "code",
   "execution_count": null,
   "metadata": {},
   "outputs": [],
   "source": [
    "startButton = widgets.Button(\n",
    "    description='Startup',\n",
    "    disabled=False,\n",
    "    button_style='', # 'success', 'info', 'warning', 'danger' or ''\n",
    "    tooltip='Initialize the system and run the homing cyle',\n",
    "    icon='play'\n",
    ")\n",
    "startButton.on_click(buttonHandler)\n",
    "\n",
    "shutdownButton = widgets.Button(\n",
    "    description='Shutdown',\n",
    "    disabled=False,\n",
    "    button_style='danger', # 'success', 'info', 'warning', 'danger' or ''\n",
    "    tooltip='Shutdown the system so it is safe to power off',\n",
    "    icon='power-off'\n",
    ")\n",
    "shutdownButton.on_click(buttonHandler)\n",
    "\n",
    "selectHolderButton = widgets.Button(\n",
    "    description='Select Holder',\n",
    "    disabled=False,\n",
    "    button_style='', # 'success', 'info', 'warning', 'danger' or ''\n",
    "    tooltip='Select the specimen holder that will be used for the next measurement',\n",
    "    icon='list'\n",
    ")\n",
    "selectHolderButton.on_click(buttonHandler)\n",
    "\n",
    "measureButton = widgets.Button(\n",
    "    description='Measure',\n",
    "    disabled=False,\n",
    "    button_style='', # 'success', 'info', 'warning', 'danger' or ''\n",
    "    tooltip='Run the measurement cycle',\n",
    "    icon='balance-scale'\n",
    ")\n",
    "measureButton.on_click(buttonHandler)\n",
    "\n",
    "calHolderButton = widgets.Button(\n",
    "    description='Calibrate Holder',\n",
    "    disabled=False,\n",
    "    button_style='', # 'success', 'info', 'warning', 'danger' or ''\n",
    "    tooltip='Calibrate a new specimen holder',\n",
    "    icon='file'\n",
    ")\n",
    "calHolderButton.on_click(buttonHandler)\n",
    "\n",
    "calLoadCellButton = widgets.Button(\n",
    "    description='Calibrate Load Cell',\n",
    "    disabled=False,\n",
    "    button_style='', # 'success', 'info', 'warning', 'danger' or ''\n",
    "    tooltip='Calibrate the load cell',\n",
    "    icon='bullseye'\n",
    ")\n",
    "calLoadCellButton.on_click(buttonHandler)\n",
    "\n",
    "homingButton = widgets.Button(\n",
    "    description='Homing cycle',\n",
    "    disabled=False,\n",
    "    button_style='', # 'success', 'info', 'warning', 'danger' or ''\n",
    "    tooltip='Run the homing cycle',\n",
    "    icon='home'\n",
    ")\n",
    "homingButton.on_click(buttonHandler)\n",
    "\n",
    "resetButton = widgets.Button(\n",
    "    description='Reset',\n",
    "    disabled=False,\n",
    "    button_style='', # 'success', 'info', 'warning', 'danger' or ''\n",
    "    tooltip='Reset the system',\n",
    "    icon='times-circle'\n",
    ")\n",
    "resetButton.on_click(buttonHandler)\n",
    "\n",
    "style = {'description_width': 'initial'}\n",
    "\n",
    "numCalWeightsDropDown = widgets.Dropdown(\n",
    "    options=['1', '2', '3', '4', '5'],\n",
    "    value='3',\n",
    "    description='Number of calibration weights:',\n",
    "    disabled=False,\n",
    "    style=style\n",
    ")\n",
    "\n",
    "numHolderDipsDropDown = widgets.Dropdown(\n",
    "    options=['1', '2', '3', '4', '5'],\n",
    "    value='3',\n",
    "    description='Number of measurements to average:',\n",
    "    disabled=False,\n",
    "    style=style\n",
    ")"
   ]
  },
  {
   "cell_type": "code",
   "execution_count": null,
   "metadata": {},
   "outputs": [],
   "source": [
    "measureTabContet = widgets.HBox([selectHolderButton, measureButton])"
   ]
  },
  {
   "cell_type": "code",
   "execution_count": null,
   "metadata": {},
   "outputs": [],
   "source": [
    "calibrateTabContent = widgets.VBox([widgets.HBox([numHolderDipsDropDown, calHolderButton]), widgets.HBox([numCalWeightsDropDown, calLoadCellButton])])"
   ]
  },
  {
   "cell_type": "code",
   "execution_count": null,
   "metadata": {},
   "outputs": [],
   "source": [
    "otherTabContent = widgets.HBox([homingButton, resetButton])"
   ]
  },
  {
   "cell_type": "code",
   "execution_count": null,
   "metadata": {},
   "outputs": [],
   "source": [
    "tab_contents = ['Measure', 'Calibrate', 'Other']\n",
    "children = [measureTabContet, calibrateTabContent, otherTabContent]\n",
    "tab = widgets.Tab()\n",
    "tab.children = children\n",
    "for i in range(len(tab_contents)):\n",
    "    tab.set_title(i, tab_contents[i])\n"
   ]
  },
  {
   "cell_type": "code",
   "execution_count": null,
   "metadata": {},
   "outputs": [],
   "source": [
    "def runUI():\n",
    "    widgets.VBox([HTML(title), startButton, tab, shutdownButton])"
   ]
  },
  {
   "cell_type": "code",
   "execution_count": null,
   "metadata": {},
   "outputs": [],
   "source": []
  }
 ],
 "metadata": {
  "kernelspec": {
   "display_name": "Python 3",
   "language": "python",
   "name": "python3"
  },
  "language_info": {
   "codemirror_mode": {
    "name": "ipython",
    "version": 3
   },
   "file_extension": ".py",
   "mimetype": "text/x-python",
   "name": "python",
   "nbconvert_exporter": "python",
   "pygments_lexer": "ipython3",
   "version": "3.6.4"
  }
 },
 "nbformat": 4,
 "nbformat_minor": 2
}
