{
 "cells": [
  {
   "cell_type": "markdown",
   "metadata": {},
   "source": [
    "## Todo\n",
    "- [ ] Specimen holder selector\n",
    "- [ ] Cable tie position selector\n",
    "- [ ] Progress bar for the measurement? Not strictly necessary but cool. This would have to be updated in recordSensors()\n",
    "- [ ] Specimen holder delete\n",
    "- [ ] Interactive plot\n",
    "- [ ] Slider to select the exported data range?\n",
    "- [ ] Slider to fine tune specimen holder and measurement data if the sync is not robust\n",
    "- [ ] widgets.Text for user input instead of input() ?\n",
    "- [ ] widgets.Button to start instead of hitting enter in input()?\n"
   ]
  },
  {
   "cell_type": "markdown",
   "metadata": {},
   "source": [
    "## Notes\n",
    "- selectedHolder should be a global variable in the UI module. If the selected holder is deleted, set it to None\n",
    "- If selectedHolder is None, call selectSpecimenHolder\n",
    "- Deleting a holder should be a function that calls selectSpecimenHolder, in addation there needs to be a delete button\n",
    "- widget.close() "
   ]
  },
  {
   "cell_type": "code",
   "execution_count": 5,
   "metadata": {},
   "outputs": [],
   "source": [
    "import ipywidgets as widgets\n",
    "from IPython.display import display\n",
    "import pandas as pd\n",
    "import matplotlib.pyplot as plt\n",
    "%matplotlib inline"
   ]
  },
  {
   "cell_type": "markdown",
   "metadata": {},
   "source": [
    "## Specimen holder selector"
   ]
  },
  {
   "cell_type": "code",
   "execution_count": 81,
   "metadata": {},
   "outputs": [],
   "source": [
    "global selectedHolder\n",
    "global holderSelector\n",
    "\n",
    "def selectSpecimenHolder():\n",
    "    global holderSelector\n",
    "    df = pd.read_pickle('testSave')\n",
    "    \n",
    "    holderSelector = widgets.Select(\n",
    "    options=df.columns,\n",
    "    value=df.columns[0],\n",
    "    description='Holder: ',\n",
    "    disabled=False\n",
    "    )\n",
    "    button = widgets.Button(\n",
    "    description='Select',\n",
    "    disabled=False,\n",
    "    button_style='', # 'success', 'info', 'warning', 'danger' or ''\n",
    "    tooltip='Apply the specimen holder selection',\n",
    "    icon='check'\n",
    "    )\n",
    "    widgets.interact(plotSpecimenHolder, df=widgets.fixed(df), column=holderSelector)\n",
    "    display(button)\n",
    "    button.on_click(applyHolderSelection)\n",
    "    \n",
    "def plotSpecimenHolder(df, column):\n",
    "    global selectedHolder\n",
    "    %matplotlib notebook\n",
    "    fig=plt.figure(column)\n",
    "    plt.plot(df[column])\n",
    "    plt.show()\n",
    "    selectedHolder = column\n",
    "\n",
    "def applyHolderSelection(b):\n",
    "    print('Selected holder: {}'.format(selectedHolder))\n",
    "    b.close()\n",
    "    holderSelector.close()"
   ]
  },
  {
   "cell_type": "markdown",
   "metadata": {},
   "source": [
    "## Mount selector"
   ]
  },
  {
   "cell_type": "code",
   "execution_count": 82,
   "metadata": {},
   "outputs": [
    {
     "data": {
      "application/vnd.jupyter.widget-view+json": {
       "model_id": "dcaf350d163d4d87aa15e3b58607f56a",
       "version_major": 2,
       "version_minor": 0
      },
      "text/plain": [
       "interactive(children=(Select(description='Holder: ', options=('holder 1', 'holder2'), value='holder 1'), Outpu…"
      ]
     },
     "metadata": {},
     "output_type": "display_data"
    },
    {
     "data": {
      "application/vnd.jupyter.widget-view+json": {
       "model_id": "",
       "version_major": 2,
       "version_minor": 0
      },
      "text/plain": [
       "Button(description='Select', icon='check', style=ButtonStyle(), tooltip='Apply the specimen holder selection')"
      ]
     },
     "metadata": {},
     "output_type": "display_data"
    },
    {
     "name": "stdout",
     "output_type": "stream",
     "text": [
      "Selected holder: holder2\n"
     ]
    }
   ],
   "source": [
    "selectSpecimenHolder()"
   ]
  },
  {
   "cell_type": "code",
   "execution_count": 69,
   "metadata": {},
   "outputs": [
    {
     "name": "stdout",
     "output_type": "stream",
     "text": [
      "holder2\n"
     ]
    }
   ],
   "source": [
    "print(selectedHolder)"
   ]
  }
 ],
 "metadata": {
  "kernelspec": {
   "display_name": "Python 3",
   "language": "python",
   "name": "python3"
  },
  "language_info": {
   "codemirror_mode": {
    "name": "ipython",
    "version": 3
   },
   "file_extension": ".py",
   "mimetype": "text/x-python",
   "name": "python",
   "nbconvert_exporter": "python",
   "pygments_lexer": "ipython3",
   "version": "3.6.4"
  }
 },
 "nbformat": 4,
 "nbformat_minor": 2
}
